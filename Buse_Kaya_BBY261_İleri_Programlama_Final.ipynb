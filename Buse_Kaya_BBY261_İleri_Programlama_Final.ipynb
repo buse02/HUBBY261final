{
  "nbformat": 4,
  "nbformat_minor": 0,
  "metadata": {
    "colab": {
      "provenance": [],
      "include_colab_link": true
    },
    "kernelspec": {
      "name": "python3",
      "display_name": "Python 3"
    },
    "language_info": {
      "name": "python"
    }
  },
  "cells": [
    {
      "cell_type": "markdown",
      "metadata": {
        "id": "view-in-github",
        "colab_type": "text"
      },
      "source": [
        "<a href=\"https://colab.research.google.com/github/buse02/HUBBY261final/blob/main/Buse_Kaya_BBY261_%C4%B0leri_Programlama_Final.ipynb\" target=\"_parent\"><img src=\"https://colab.research.google.com/assets/colab-badge.svg\" alt=\"Open In Colab\"/></a>"
      ]
    },
    {
      "cell_type": "markdown",
      "source": [
        "**BBY261 Final Sınavına Hoşgeldiniz**\n",
        "\n",
        "Bu Colab not defterinin bir kopyasını kendi \"Google Drive\" hesabınızda \"Dosya >  Drive'da bir kopya kaydet\" seçeneği ile oluşturunuz. Sorulara kendi oluşturduğunuz kopya içinde yanıt veriniz. Her sorunun altında sorunun yanıtlanacağı kod alanı yer almaktadır, sadece bu alanı kullanınız.\n",
        "\n",
        "Github hesabınızda \"hubby261final\" adlı kod deposu oluşturunuz. Çalışmanızı tamamladığınızda Colab dosyanızı Github hesabınızda oluşturduğunuz \"hubby261final\" adlı kod deposuna (repository) \"Dosya > Github'da bir kopya kaydet\" seçeneği ile kaydediniz.\n",
        "\n",
        "Not: Tüm işlemleri tamamladığınızda sınavınızı başarıyla teslim edip edemediğinizi kontrol etmem gerekiyor. Bu açıdan sınavı tamamladığınızda lütfen bana haber verin ve kontrol işlemini birlikte gerçekleştirelim.\n",
        "\n",
        "Süreniz **1** saattir!\n",
        "\n",
        "*Başarılar...*"
      ],
      "metadata": {
        "id": "LwfacJaeu2VZ"
      }
    },
    {
      "cell_type": "markdown",
      "source": [
        "# Soru 1\n",
        "\n",
        "Kod bölümünde verilen paragrafın içindeki kelimelerin sıklıklarını (her bir kelimenin paragraf içinde kaç tane geçtiğini) ekrana listeyelecek kodu yazın. (25 Puan)\n",
        "\n",
        "Örnek çıktı aşağıdaki gibi olmalıdır:\n",
        "\n",
        "```\n",
        "elma - 3\n",
        "armut - 5\n",
        "karpuz - 2\n",
        "...\n",
        "```"
      ],
      "metadata": {
        "id": "N3CYVfJUyLQX"
      }
    },
    {
      "cell_type": "code",
      "execution_count": null,
      "metadata": {
        "id": "m9Xix4Enun8Z"
      },
      "outputs": [],
      "source": [
        "from collections import Counter\n",
        "import re\n",
        "\n",
        "paragraph = \"\"\"\n",
        "The power of open culture. At Creative Commons, we truly believe in the power of open access to cultural heritage. This type of better sharing helps build and sustain vibrant and thriving societies. Galleries, libraries, archives, and museums (GLAMs) have been the gate openers to the world’s cultural heritage for centuries, and play a fundamental role for the communities that they serve. They provide resources and services for enjoyment, education, research, and the advancement of knowledge, and stimulate creativity and innovation in the service of global sustainable development. By making their collections as openly accessible, shareable, and reusable as possible by the public — both on-site and online — they empower people, generation after generation, in offering them the scientific, historical, and socio-cultural resources to build a future for themselves and their communities. The list of GLAMs with open access programs gets longer every day. However, those programs don’t just happen. They build on the experience of pioneering GLAMs that set the trend in the early days of the open movement. Unfortunately, today still, GLAMs face many barriers in trying to make their collections openly accessible online. Creative Commons strives to support GLAMs in overcoming these barriers to achieve better sharing of cultural heritage.\n",
        "\"\"\"\n",
        "word_counts = Counter(words)\n",
        "\n",
        "for word, count in word_counts.items():\n",
        "    print(f\"{word} - {count}\")\n"
      ]
    },
    {
      "cell_type": "markdown",
      "source": [
        "# Soru 2\n",
        "\n",
        "Kod bölümünde verilen URL'de yer alan web sayfasında \"h2\" etiketi ile işaretlenmiş metinleri ekrana listeleyecek kodu yazın. (25 Puan)\n",
        "\n",
        "Örnek çıktı aşağıdaki gibi olmalıdır:\n",
        "\n",
        "\n",
        "```\n",
        "Who We Are\n",
        "Our mission\n",
        "Our vision\n",
        "...\n",
        "```\n",
        "\n"
      ],
      "metadata": {
        "id": "uIuXDXBd3whN"
      }
    },
    {
      "cell_type": "code",
      "source": [
        "\n",
        "import requests\n",
        "from bs4 import BeautifulSoup\n",
        "\n",
        "url = \"https://creativecommons.org/mission/\"\n",
        "\n",
        "\n",
        "response = requests.get(url)\n",
        "\n",
        "if response.status_code == 200:\n",
        "    soup = BeautifulSoup(response.text, 'html.parser')\n",
        "\n",
        "    h2_tags = soup.find_all('h2')\n",
        "\n",
        "    for h2_tag in h2_tags:\n",
        "        print(h2_tag.text)\n",
        "else:\n",
        "    print(f\"Hata: {response.status_code}\")\n"
      ],
      "metadata": {
        "id": "vonGuadn4kwE"
      },
      "execution_count": null,
      "outputs": []
    },
    {
      "cell_type": "markdown",
      "source": [
        "# Soru 3\n",
        "\n",
        "Kullanıcı tarafından girilen bir sayısının asal sayı olup olmadığını kontrol edecek bir \"asal sayı tahmin oyunu\" kodlayınız. Bu oyunda kullanıcı asal sayı girdiği sürecek ikinci bir tahmin hakkı verilmeli, asal sayı girmediği zaman ise oyun sona erdirilmelidir. (25 Puan)"
      ],
      "metadata": {
        "id": "zEAR579V5al1"
      }
    },
    {
      "cell_type": "code",
      "source": [
        "sayi = int(input(\"Sayıyı Girin: \"))\n",
        "\n",
        "if sayi > 1:\n",
        "    for i in range(2, sayi):\n",
        "        if (sayi % i) == 0:\n",
        "            print(sayi, \" Asal Sayı Değildir.\")\n",
        "            ikinci_sayi = int(input(\"Tekrar bir sayı girin: \"))\n",
        "            if ikinci_sayi > 1:\n",
        "                for j in range(2, ikinci_sayi):\n",
        "                    if (ikinci_sayi % j) == 0:\n",
        "                        print(ikinci_sayi, \" Asal Sayı Değildir.\")\n",
        "                        print(\"ikinci denemeniz de başarısız oldu. Oyun sona erdi.\")\n",
        "                        break\n",
        "                else:\n",
        "                    print(ikinci_sayi, \" Asal Sayıdır.\")\n",
        "            else:\n",
        "                print(ikinci_sayi, \" Asal Sayı Değildir.\")\n",
        "                print(\"İkinci denemeniz de başarısız oldu. Oyun sona erdi.\")\n",
        "            break\n",
        "    else:\n",
        "        print(sayi, \" Asal Sayıdır.\")\n",
        "else:\n",
        "    print(sayi, \" Asal Sayı Değildir.\")\n"
      ],
      "metadata": {
        "id": "ntHxasd87B1f"
      },
      "execution_count": null,
      "outputs": []
    },
    {
      "cell_type": "markdown",
      "source": [
        "# Soru 4\n",
        "\n",
        "Kullanıcı tarafından girilen bir cümlenin \"İngilizce\" olup olmadığını anlayacak kodu yazınız. Girilen cümlenin analizinden sonra sonuç ekrana yazdırılmalı.\n",
        "\n",
        "Not: Bu soru için kullandığınız ek bir dosya varsa o dosyayı da Github deponuza eklemeyi unutmayınız.\n",
        "\n",
        "Örnek çıktı:\n",
        "\n",
        "```\n",
        "\"I want to learn Python programming in my school life\" cümlesi ingilizcedir.\n",
        "```\n"
      ],
      "metadata": {
        "id": "_3_lGQj97G4Z"
      }
    },
    {
      "cell_type": "code",
      "source": [
        "from nltk.corpus import words\n",
        "import nltk\n",
        "\n",
        "nltk.download('words')\n",
        "\n",
        "def is_english_sentence(sentence):\n",
        "    english_word_set = set(words.words())\n",
        "    words_in_sentence = sentence.split()\n",
        "\n",
        "    for word in words_in_sentence:\n",
        "        if word.lower() not in english_word_set:\n",
        "            return False\n",
        "\n",
        "    return True\n",
        "\n",
        "user_sentence = input(\"Bir cümle girin: \")\n",
        "\n",
        "if is_english_sentence(user_sentence):\n",
        "    print(user_sentence + \"cümlesi ingilizcedir.\")\n",
        "else:\n",
        "    print(user_sentence + \"cümlesi ingilizce değildire.\")\n",
        "\n",
        "\n",
        "\n"
      ],
      "metadata": {
        "id": "MJb8eoth-Lam",
        "colab": {
          "base_uri": "https://localhost:8080/"
        },
        "outputId": "82e1c280-7ed1-434b-9979-020ad3d4d2c5"
      },
      "execution_count": null,
      "outputs": [
        {
          "output_type": "stream",
          "name": "stderr",
          "text": [
            "[nltk_data] Downloading package words to /root/nltk_data...\n",
            "[nltk_data]   Package words is already up-to-date!\n"
          ]
        }
      ]
    }
  ]
}